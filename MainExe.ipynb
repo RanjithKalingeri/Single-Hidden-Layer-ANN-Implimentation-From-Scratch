{
  "nbformat": 4,
  "nbformat_minor": 0,
  "metadata": {
    "colab": {
      "name": "assignment2_introtoML_mit2020017",
      "provenance": []
    },
    "kernelspec": {
      "name": "python3",
      "display_name": "Python 3"
    }
  },
  "cells": [
    {
      "cell_type": "markdown",
      "metadata": {
        "id": "Ddk5oHGeiTUG"
      },
      "source": [
        "#Problem 1 - ANN Single Layer From Scratch "
      ]
    },
    {
      "cell_type": "code",
      "metadata": {
        "id": "XL3ubWBNfWYd"
      },
      "source": [
        "from math import exp\n",
        "from random import seed\n",
        "from random import random\n",
        "import math\n",
        "\n",
        "# Initialize a network\n",
        "def initialize_network(n_inputs, n_hidden, n_outputs):\n",
        "\tnetwork = list()\n",
        "\thidden_layer = [{'weights':[random() for i in range(n_inputs + 1)]} for i in range(n_hidden)]\n",
        "\tnetwork.append(hidden_layer)\n",
        "\toutput_layer = [{'weights':[random() for i in range(n_hidden + 1)]} for i in range(n_outputs)]\n",
        "\tnetwork.append(output_layer)\n",
        "\treturn network\n",
        "\n",
        "# Calculate neuron activation for an input\n",
        "def activate(weights, inputs):\n",
        "\tactivation = weights[-1]\n",
        "\tfor i in range(len(weights)-1):\n",
        "\t\tactivation += weights[i] * inputs[i]\n",
        "\treturn activation\n",
        "\n",
        "# Transfer neuron activation\n",
        "def transfer(activation, i):\n",
        "  if i == 1: \n",
        "      return 1.0 / (1.0 + exp(-activation))\n",
        "  elif i ==0:\n",
        "      if activation >= 0:\n",
        "          return activation \n",
        "      else: \n",
        "          return 0\n",
        "  elif i == 2: \n",
        "      return math.tanh(activation)\n",
        "  elif i == 3: \n",
        "      if activation >= 0:\n",
        "          return activation \n",
        "      else: \n",
        "          return 0.01 * activation \n",
        "\n",
        "# Forward propagate input to a network output\n",
        "def forward_propagate(network, row, i):\n",
        "\tinputs = row\n",
        "\tfor layer in network:\n",
        "\t\tnew_inputs = []\n",
        "\t\tfor neuron in layer:\n",
        "\t\t\tactivation = activate(neuron['weights'], inputs)\n",
        "\t\t\tneuron['output'] = transfer(activation, i)\n",
        "\t\t\tnew_inputs.append(neuron['output'])\n",
        "\t\tinputs = new_inputs\n",
        "\treturn inputs, activation\n",
        "\n",
        "# Calculate the derivative of an neuron output\n",
        "def transfer_derivative(output, i):\n",
        "  if i == 1: \n",
        "      return output*(1-output)\n",
        "  elif i ==0:\n",
        "      if output >= 0:\n",
        "          return 1 \n",
        "      else: \n",
        "          return 0\n",
        "  elif i == 2: \n",
        "      return 1-(output**2)\n",
        "  elif i == 3: \n",
        "      if output >= 0:\n",
        "          return 1 \n",
        "      else: \n",
        "          return 0.01 \n",
        "\n",
        "# Backpropagate error and store in neurons\n",
        "def backward_propagate_error(network, expected, i):\n",
        "\tfor i in reversed(range(len(network))):\n",
        "\t\tlayer = network[i]\n",
        "\t\terrors = list()\n",
        "\t\tif i != len(network)-1:\n",
        "\t\t\tfor j in range(len(layer)):\n",
        "\t\t\t\terror = 0.0\n",
        "\t\t\t\tfor neuron in network[i + 1]:\n",
        "\t\t\t\t\terror += (neuron['weights'][j] * neuron['delta'])\n",
        "\t\t\t\terrors.append(error)\n",
        "\t\telse:\n",
        "\t\t\tfor j in range(len(layer)):\n",
        "\t\t\t\tneuron = layer[j]\n",
        "\t\t\t\terrors.append(expected[j] - neuron['output'])\n",
        "\t\tfor j in range(len(layer)):\n",
        "\t\t\tneuron = layer[j]\n",
        "\t\t\tneuron['delta'] = errors[j] * transfer_derivative(neuron['output'], i)\n",
        "\n",
        "# Update network weights with error\n",
        "def update_weights(network, row, l_rate):\n",
        "\tfor i in range(len(network)):\n",
        "\t\tinputs = row[:-1]\n",
        "\t\tif i != 0:\n",
        "\t\t\tinputs = [neuron['output'] for neuron in network[i - 1]]\n",
        "\t\tfor neuron in network[i]:\n",
        "\t\t\tfor j in range(len(inputs)):\n",
        "\t\t\t\tneuron['weights'][j] += l_rate * neuron['delta'] * inputs[j]\n",
        "\t\t\tneuron['weights'][-1] += l_rate * neuron['delta']\n",
        "\n",
        "\n",
        "\n",
        "def train_network(network, train, l_rate, n_epoch, n_outputs, index): \n",
        "    for epoch in range(n_epoch): \n",
        "        sum_error = 0\n",
        "        for row in train: \n",
        "            outputs, activation = forward_propagate(network, row, index)\n",
        "            #print('outputs are = ' + str(outputs))\n",
        "            expected = [0 for i in range(n_outputs)]\n",
        "            expected[row[-1]] = 1\n",
        "            sum_error += sum([(expected[i] - outputs[i])**2 for i in range(len(expected))])\n",
        "            backward_propagate_error(network, expected,  index)\n",
        "            update_weights(network, row, l_rate)\n",
        "        rows_no = len(train)\n",
        "        max_error = rows_no * n_outputs\n",
        "        accuracy = max_error - sum_error\n",
        "        accuracy = accuracy/(n_outputs * rows_no)\n",
        "        print('>epoch=%d, lrate = %.3f, error=%.3f, accuracy_ratio = %.3f' %(epoch, l_rate, sum_error, accuracy))\n",
        "    if accuracy >=0:\n",
        "        return accuracy\n",
        "    else: \n",
        "        return 0\n",
        "\n"
      ],
      "execution_count": 3,
      "outputs": []
    },
    {
      "cell_type": "markdown",
      "metadata": {
        "id": "Fa0ufNVuI-6k"
      },
      "source": [
        "#Implimenting ANN on small data set"
      ]
    },
    {
      "cell_type": "code",
      "metadata": {
        "id": "sJ0uUzin8FmQ",
        "colab": {
          "base_uri": "https://localhost:8080/"
        },
        "outputId": "95de1689-cdc5-4b7a-f005-39d4236e1b13"
      },
      "source": [
        "# Test training backprop algorithm\n",
        "seed(1)\n",
        "dataset = [[2.7810836,2.550537003,0],\n",
        "\t[1.465489372,2.362125076,0],\n",
        "\t[3.396561688,4.400293529,0],\n",
        "\t[1.38807019,1.850220317,0],\n",
        "\t[3.06407232,3.005305973,0],\n",
        "\t[7.627531214,2.759262235,1],\n",
        "\t[5.332441248,2.088626775,1],\n",
        "\t[6.922596716,1.77106367,1],\n",
        "\t[8.675418651,-0.242068655,1],\n",
        "\t[7.673756466,3.508563011,1]]\n",
        "\n",
        "n_inputs = len(dataset[0]) - 1\n",
        "n_outputs = len(set([row[-1] for row in dataset]))\n",
        "\n",
        "print ('noutput = '+ str(n_inputs) + ' ninputs = ' + str(n_outputs) )\n",
        "\n",
        "\n",
        "network = initialize_network(n_inputs, 5, n_outputs)\n",
        "train_network(network, dataset, 0.1, 1, n_outputs, 1)\n"
      ],
      "execution_count": 10,
      "outputs": [
        {
          "output_type": "stream",
          "text": [
            "noutput = 2 ninputs = 2\n",
            ">epoch=0, lrate = 0.100, error=8.412, accuracy_ratio = 0.579\n"
          ],
          "name": "stdout"
        },
        {
          "output_type": "execute_result",
          "data": {
            "text/plain": [
              "0.579375280085649"
            ]
          },
          "metadata": {
            "tags": []
          },
          "execution_count": 10
        }
      ]
    },
    {
      "cell_type": "markdown",
      "metadata": {
        "id": "QJWqN3v-HDKJ"
      },
      "source": [
        "#Iris Data Set "
      ]
    },
    {
      "cell_type": "markdown",
      "metadata": {
        "id": "X8BfqOVYKm7m"
      },
      "source": [
        "##accesing and converting data to n-d array "
      ]
    },
    {
      "cell_type": "code",
      "metadata": {
        "id": "HeyFWZaoHKzw",
        "colab": {
          "base_uri": "https://localhost:8080/"
        },
        "outputId": "0fb6602e-fbb3-4d98-87d8-70137558ab1c"
      },
      "source": [
        "import pandas as pd\n",
        "import numpy as np\n",
        "\n",
        "url = 'https://raw.githubusercontent.com/RanjithKalingeri/housing-price-/main/Iris.csv'\n",
        "df = pd.read_csv(url)\n",
        "#print(df)\n",
        "data_raw = df.to_numpy()\n",
        "#print (data)\n",
        "\n",
        "def refine_data (data): \n",
        "    for i in range(data.shape[0]): \n",
        "        if data[i][5] == 'Iris-setosa':\n",
        "            data[i][5] = 0\n",
        "        elif data[i][5] == 'Iris-versicolor':\n",
        "            data[i][5] = 1\n",
        "        elif data[i][5] == 'Iris-virginica':\n",
        "            data[i][5] = 2\n",
        "    data = np.delete(data,[0],1)\n",
        "    return data\n",
        "\n",
        "data_iris = refine_data(data_raw)\n",
        "print(data_iris[0:10])\n"
      ],
      "execution_count": 7,
      "outputs": [
        {
          "output_type": "stream",
          "text": [
            "[[5.1 3.5 1.4 0.2 0]\n",
            " [4.9 3.0 1.4 0.2 0]\n",
            " [4.7 3.2 1.3 0.2 0]\n",
            " [4.6 3.1 1.5 0.2 0]\n",
            " [5.0 3.6 1.4 0.2 0]\n",
            " [5.4 3.9 1.7 0.4 0]\n",
            " [4.6 3.4 1.4 0.3 0]\n",
            " [5.0 3.4 1.5 0.2 0]\n",
            " [4.4 2.9 1.4 0.2 0]\n",
            " [4.9 3.1 1.5 0.1 0]]\n"
          ],
          "name": "stdout"
        }
      ]
    },
    {
      "cell_type": "markdown",
      "metadata": {
        "id": "onCmj73hK6qL"
      },
      "source": [
        ""
      ]
    },
    {
      "cell_type": "code",
      "metadata": {
        "colab": {
          "base_uri": "https://localhost:8080/",
          "height": 688
        },
        "id": "YFDejQ5BLFbV",
        "outputId": "44cb1162-8d4c-43eb-c0da-bc40dc81b216"
      },
      "source": [
        "import matplotlib.pyplot as plt\n",
        "seed(1)\n",
        "\n",
        "n_inputs = len(data_iris[0]) - 1\n",
        "n_outputs = len(set([row[-1] for row in data_iris]))\n",
        "print ('noutput = '+ str(n_outputs) + ' ninputs = ' + str(n_inputs) )\n",
        "'''\n",
        "\n",
        "network = initialize_network(n_inputs, 10, n_outputs)\n",
        "train_network(network, data_iris, 0.5, 200, n_outputs)\n",
        "for layer in network:\n",
        "\tprint(layer)\n",
        "''' \n",
        "\n",
        "hidden_list = [0, 2,3,4, 5, 15, 20, 25, 40, 50, 64]\n",
        "\n",
        "\n",
        "def get_accuracy_plot ( hidden_list, n_inputs, n_outputs, epoch, l_rate, data, index):\n",
        "    accuracy = []\n",
        "    for i in hidden_list:\n",
        "        print('number of hidden layers is = ' + str(i))\n",
        "        network = initialize_network(n_inputs, i, n_outputs)\n",
        "        temp = train_network(network, data, l_rate, epoch, n_outputs, index)\n",
        "        accuracy.append(temp)\n",
        "    print(accuracy)\n",
        "    plt.plot(hidden_list, accuracy)\n",
        "\n",
        "get_accuracy_plot(hidden_list, n_inputs, n_outputs, 1, 0.1, data_iris, 1)\n",
        "    \n"
      ],
      "execution_count": 13,
      "outputs": [
        {
          "output_type": "stream",
          "text": [
            "noutput = 3 ninputs = 4\n",
            "number of hidden layers is = 0\n",
            ">epoch=0, lrate = 0.100, error=119.489, accuracy_ratio = 0.734\n",
            "number of hidden layers is = 2\n",
            ">epoch=0, lrate = 0.100, error=110.020, accuracy_ratio = 0.756\n",
            "number of hidden layers is = 3\n",
            ">epoch=0, lrate = 0.100, error=138.761, accuracy_ratio = 0.692\n",
            "number of hidden layers is = 4\n",
            ">epoch=0, lrate = 0.100, error=133.988, accuracy_ratio = 0.702\n",
            "number of hidden layers is = 5\n",
            ">epoch=0, lrate = 0.100, error=119.632, accuracy_ratio = 0.734\n",
            "number of hidden layers is = 15\n",
            ">epoch=0, lrate = 0.100, error=299.640, accuracy_ratio = 0.334\n",
            "number of hidden layers is = 20\n",
            ">epoch=0, lrate = 0.100, error=299.899, accuracy_ratio = 0.334\n",
            "number of hidden layers is = 25\n",
            ">epoch=0, lrate = 0.100, error=300.000, accuracy_ratio = 0.333\n",
            "number of hidden layers is = 40\n",
            ">epoch=0, lrate = 0.100, error=300.000, accuracy_ratio = 0.333\n",
            "number of hidden layers is = 50\n",
            ">epoch=0, lrate = 0.100, error=300.000, accuracy_ratio = 0.333\n",
            "number of hidden layers is = 64\n",
            ">epoch=0, lrate = 0.100, error=300.000, accuracy_ratio = 0.333\n",
            "[0.7344690276900492, 0.7555113482011613, 0.6916414560540869, 0.7022482432148295, 0.7341514457382239, 0.33413397524582944, 0.3335569380431236, 0.33333429680681975, 0.333333333853346, 0.3333333334243011, 0.33333333333516396]\n"
          ],
          "name": "stdout"
        },
        {
          "output_type": "display_data",
          "data": {
            "image/png": "[encoded data removed]",
            "text/plain": [
              "<Figure size 432x288 with 1 Axes>"
            ]
          },
          "metadata": {
            "tags": [],
            "needs_background": "light"
          }
        }
      ]
    }
  ]
}